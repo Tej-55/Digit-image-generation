{
 "cells": [
  {
   "cell_type": "code",
   "execution_count": 1,
   "id": "7d33b289",
   "metadata": {},
   "outputs": [],
   "source": [
    "# importing the necessary libraries and the MNIST dataset\n",
    "import tensorflow as tf\n",
    "import numpy as np\n",
    "import matplotlib.pyplot as plt\n",
    "from tensorflow.keras.datasets.mnist import load_data"
   ]
  },
  {
   "cell_type": "code",
   "execution_count": 2,
   "id": "3d6c2b2d",
   "metadata": {},
   "outputs": [],
   "source": [
    "train_data, test_data = load_data()"
   ]
  },
  {
   "cell_type": "code",
   "execution_count": 15,
   "id": "ff03ab9c",
   "metadata": {},
   "outputs": [],
   "source": [
    "# defining functions for the two networks.\n",
    "# Both the networks have two hidden layers\n",
    "# and an output layer which are densely or \n",
    "# fully connected layers defining the \n",
    "# Generator network function\n",
    "def generator(z, reuse = None):\n",
    "    with tf.compat.v1.variable_scope('gen', reuse = reuse):\n",
    "        hidden1 = tf.keras.layers.Dense(units = 128, \n",
    "                            activation = tf.nn.leaky_relu)(z)\n",
    "                              \n",
    "        hidden2 = tf.keras.layers.Dense(units = 128, activation = tf.nn.leaky_relu)(hidden1)\n",
    "             \n",
    "        output = tf.keras.layers.Dense(units = 784, activation = tf.nn.tanh)(hidden2)\n",
    "          \n",
    "        return output\n",
    "\n",
    "# defining the Discriminator network function \n",
    "def discriminator(X, reuse = None):\n",
    "    with tf.compat.v1.variable_scope('dis', reuse = reuse):\n",
    "        hidden1 = tf.keras.layers.Dense(units = 128,\n",
    "                            activation = tf.nn.leaky_relu)(X)\n",
    "                              \n",
    "        hidden2 = tf.keras.layers.Dense(units = 128, activation = tf.nn.leaky_relu)(hidden1)\n",
    "                 \n",
    "        logits = tf.keras.layers.Dense(units = 1)(hidden2)\n",
    "        output = tf.sigmoid(logits)\n",
    "          \n",
    "        return output, logits"
   ]
  },
  {
   "cell_type": "code",
   "execution_count": 16,
   "id": "442dc2f4",
   "metadata": {},
   "outputs": [],
   "source": [
    "# creating placeholders for the outputs\n",
    "tf.compat.v1.reset_default_graph()\n",
    "\n",
    "tf.compat.v1.disable_eager_execution()\n",
    "  \n",
    "real_images = tf.compat.v1.placeholder(tf.float32, shape =[None, 784])\n",
    "z = tf.compat.v1.placeholder(tf.float32, shape =[None, 100])\n",
    "  \n",
    "G = generator(z)\n",
    "D_output_real, D_logits_real = discriminator(real_images)\n",
    "D_output_fake, D_logits_fake = discriminator(G, reuse = True)"
   ]
  },
  {
   "cell_type": "code",
   "execution_count": 17,
   "id": "2a47a129",
   "metadata": {},
   "outputs": [],
   "source": [
    "# defining the loss function\n",
    "def loss_func(logits_in, labels_in):\n",
    "    return tf.reduce_mean(tf.nn.sigmoid_cross_entropy_with_logits(\n",
    "                          logits = logits_in, labels = labels_in))"
   ]
  },
  {
   "cell_type": "code",
   "execution_count": 18,
   "id": "c7bf61ca",
   "metadata": {},
   "outputs": [],
   "source": [
    " # Smoothing for generalization\n",
    "D_real_loss = loss_func(D_logits_real, tf.ones_like(D_logits_real)*0.9)\n",
    "D_fake_loss = loss_func(D_logits_fake, tf.zeros_like(D_logits_real))\n",
    "D_loss = D_real_loss + D_fake_loss\n",
    "  \n",
    "G_loss = loss_func(D_logits_fake, tf.ones_like(D_logits_fake))"
   ]
  },
  {
   "cell_type": "code",
   "execution_count": 25,
   "id": "011d3f23",
   "metadata": {},
   "outputs": [],
   "source": [
    "lr = 0.001 #learning rate alpha"
   ]
  },
  {
   "cell_type": "code",
   "execution_count": 26,
   "id": "b5aa428e",
   "metadata": {},
   "outputs": [],
   "source": [
    "tvars = tf.compat.v1.trainable_variables() \n",
    "d_vars =[var for var in tvars if 'dis' in var.name]\n",
    "g_vars =[var for var in tvars if 'gen' in var.name]"
   ]
  },
  {
   "cell_type": "code",
   "execution_count": 27,
   "id": "bdaceb64",
   "metadata": {},
   "outputs": [],
   "source": [
    "D_trainer = tf.compat.v1.train.AdamOptimizer(lr).minimize(D_loss, var_list = d_vars)\n",
    "G_trainer = tf.compat.v1.train.AdamOptimizer(lr).minimize(G_loss, var_list = g_vars)"
   ]
  },
  {
   "cell_type": "code",
   "execution_count": 29,
   "id": "f4d1d572",
   "metadata": {},
   "outputs": [],
   "source": [
    "batch_size = 100 # batch size\n",
    "epochs = 500 # number of epochs. The higher the better the result\n",
    "init = tf.compat.v1.global_variables_initializer()"
   ]
  },
  {
   "cell_type": "code",
   "execution_count": null,
   "id": "72500d40",
   "metadata": {},
   "outputs": [],
   "source": []
  },
  {
   "cell_type": "code",
   "execution_count": 44,
   "id": "60aa3713",
   "metadata": {},
   "outputs": [
    {
     "name": "stdout",
     "output_type": "stream",
     "text": [
      "on epoch0\n"
     ]
    },
    {
     "ename": "FailedPreconditionError",
     "evalue": "Graph execution error:\n\nDetected at node 'gen_2/dense_13/BiasAdd/ReadVariableOp' defined at (most recent call last):\n    File \"C:\\Users\\TEJAS\\anaconda3\\lib\\runpy.py\", line 197, in _run_module_as_main\n      return _run_code(code, main_globals, None,\n    File \"C:\\Users\\TEJAS\\anaconda3\\lib\\runpy.py\", line 87, in _run_code\n      exec(code, run_globals)\n    File \"C:\\Users\\TEJAS\\anaconda3\\lib\\site-packages\\ipykernel_launcher.py\", line 16, in <module>\n      app.launch_new_instance()\n    File \"C:\\Users\\TEJAS\\anaconda3\\lib\\site-packages\\traitlets\\config\\application.py\", line 846, in launch_instance\n      app.start()\n    File \"C:\\Users\\TEJAS\\anaconda3\\lib\\site-packages\\ipykernel\\kernelapp.py\", line 677, in start\n      self.io_loop.start()\n    File \"C:\\Users\\TEJAS\\anaconda3\\lib\\site-packages\\tornado\\platform\\asyncio.py\", line 199, in start\n      self.asyncio_loop.run_forever()\n    File \"C:\\Users\\TEJAS\\anaconda3\\lib\\asyncio\\base_events.py\", line 601, in run_forever\n      self._run_once()\n    File \"C:\\Users\\TEJAS\\anaconda3\\lib\\asyncio\\base_events.py\", line 1905, in _run_once\n      handle._run()\n    File \"C:\\Users\\TEJAS\\anaconda3\\lib\\asyncio\\events.py\", line 80, in _run\n      self._context.run(self._callback, *self._args)\n    File \"C:\\Users\\TEJAS\\anaconda3\\lib\\site-packages\\ipykernel\\kernelbase.py\", line 471, in dispatch_queue\n      await self.process_one()\n    File \"C:\\Users\\TEJAS\\anaconda3\\lib\\site-packages\\ipykernel\\kernelbase.py\", line 460, in process_one\n      await dispatch(*args)\n    File \"C:\\Users\\TEJAS\\anaconda3\\lib\\site-packages\\ipykernel\\kernelbase.py\", line 367, in dispatch_shell\n      await result\n    File \"C:\\Users\\TEJAS\\anaconda3\\lib\\site-packages\\ipykernel\\kernelbase.py\", line 662, in execute_request\n      reply_content = await reply_content\n    File \"C:\\Users\\TEJAS\\anaconda3\\lib\\site-packages\\ipykernel\\ipkernel.py\", line 360, in do_execute\n      res = shell.run_cell(code, store_history=store_history, silent=silent)\n    File \"C:\\Users\\TEJAS\\anaconda3\\lib\\site-packages\\ipykernel\\zmqshell.py\", line 532, in run_cell\n      return super().run_cell(*args, **kwargs)\n    File \"C:\\Users\\TEJAS\\anaconda3\\lib\\site-packages\\IPython\\core\\interactiveshell.py\", line 2863, in run_cell\n      result = self._run_cell(\n    File \"C:\\Users\\TEJAS\\anaconda3\\lib\\site-packages\\IPython\\core\\interactiveshell.py\", line 2909, in _run_cell\n      return runner(coro)\n    File \"C:\\Users\\TEJAS\\anaconda3\\lib\\site-packages\\IPython\\core\\async_helpers.py\", line 129, in _pseudo_sync_runner\n      coro.send(None)\n    File \"C:\\Users\\TEJAS\\anaconda3\\lib\\site-packages\\IPython\\core\\interactiveshell.py\", line 3106, in run_cell_async\n      has_raised = await self.run_ast_nodes(code_ast.body, cell_name,\n    File \"C:\\Users\\TEJAS\\anaconda3\\lib\\site-packages\\IPython\\core\\interactiveshell.py\", line 3309, in run_ast_nodes\n      if await self.run_code(code, result, async_=asy):\n    File \"C:\\Users\\TEJAS\\anaconda3\\lib\\site-packages\\IPython\\core\\interactiveshell.py\", line 3369, in run_code\n      exec(code_obj, self.user_global_ns, self.user_ns)\n    File \"C:\\Users\\TEJAS\\AppData\\Local\\Temp\\ipykernel_14856\\2737126392.py\", line 20, in <cell line: 4>\n      gen_sample = sess.run(generator(z, reuse = True),\n    File \"C:\\Users\\TEJAS\\AppData\\Local\\Temp\\ipykernel_14856\\548130645.py\", line 11, in generator\n      hidden2 = tf.keras.layers.Dense(units = 128, activation = tf.nn.leaky_relu)(hidden1)\n    File \"C:\\Users\\TEJAS\\anaconda3\\lib\\site-packages\\keras\\engine\\base_layer_v1.py\", line 838, in __call__\n      outputs = call_fn(cast_inputs, *args, **kwargs)\n    File \"C:\\Users\\TEJAS\\anaconda3\\lib\\site-packages\\keras\\layers\\core\\dense.py\", line 252, in call\n      outputs = tf.nn.bias_add(outputs, self.bias)\nNode: 'gen_2/dense_13/BiasAdd/ReadVariableOp'\nCould not find variable gen_2/dense_13/bias. This could mean that the variable has been deleted. In TF1, it can also mean the variable is uninitialized. Debug info: container=localhost, status error message=Resource localhost/gen_2/dense_13/bias/class tensorflow::Var does not exist.\n\t [[{{node gen_2/dense_13/BiasAdd/ReadVariableOp}}]]\n\nOriginal stack trace for 'gen_2/dense_13/BiasAdd/ReadVariableOp':\n  File \"C:\\Users\\TEJAS\\anaconda3\\lib\\runpy.py\", line 197, in _run_module_as_main\n    return _run_code(code, main_globals, None,\n  File \"C:\\Users\\TEJAS\\anaconda3\\lib\\runpy.py\", line 87, in _run_code\n    exec(code, run_globals)\n  File \"C:\\Users\\TEJAS\\anaconda3\\lib\\site-packages\\ipykernel_launcher.py\", line 16, in <module>\n    app.launch_new_instance()\n  File \"C:\\Users\\TEJAS\\anaconda3\\lib\\site-packages\\traitlets\\config\\application.py\", line 846, in launch_instance\n    app.start()\n  File \"C:\\Users\\TEJAS\\anaconda3\\lib\\site-packages\\ipykernel\\kernelapp.py\", line 677, in start\n    self.io_loop.start()\n  File \"C:\\Users\\TEJAS\\anaconda3\\lib\\site-packages\\tornado\\platform\\asyncio.py\", line 199, in start\n    self.asyncio_loop.run_forever()\n  File \"C:\\Users\\TEJAS\\anaconda3\\lib\\asyncio\\base_events.py\", line 601, in run_forever\n    self._run_once()\n  File \"C:\\Users\\TEJAS\\anaconda3\\lib\\asyncio\\base_events.py\", line 1905, in _run_once\n    handle._run()\n  File \"C:\\Users\\TEJAS\\anaconda3\\lib\\asyncio\\events.py\", line 80, in _run\n    self._context.run(self._callback, *self._args)\n  File \"C:\\Users\\TEJAS\\anaconda3\\lib\\site-packages\\ipykernel\\kernelbase.py\", line 471, in dispatch_queue\n    await self.process_one()\n  File \"C:\\Users\\TEJAS\\anaconda3\\lib\\site-packages\\ipykernel\\kernelbase.py\", line 460, in process_one\n    await dispatch(*args)\n  File \"C:\\Users\\TEJAS\\anaconda3\\lib\\site-packages\\ipykernel\\kernelbase.py\", line 367, in dispatch_shell\n    await result\n  File \"C:\\Users\\TEJAS\\anaconda3\\lib\\site-packages\\ipykernel\\kernelbase.py\", line 662, in execute_request\n    reply_content = await reply_content\n  File \"C:\\Users\\TEJAS\\anaconda3\\lib\\site-packages\\ipykernel\\ipkernel.py\", line 360, in do_execute\n    res = shell.run_cell(code, store_history=store_history, silent=silent)\n  File \"C:\\Users\\TEJAS\\anaconda3\\lib\\site-packages\\ipykernel\\zmqshell.py\", line 532, in run_cell\n    return super().run_cell(*args, **kwargs)\n  File \"C:\\Users\\TEJAS\\anaconda3\\lib\\site-packages\\IPython\\core\\interactiveshell.py\", line 2863, in run_cell\n    result = self._run_cell(\n  File \"C:\\Users\\TEJAS\\anaconda3\\lib\\site-packages\\IPython\\core\\interactiveshell.py\", line 2909, in _run_cell\n    return runner(coro)\n  File \"C:\\Users\\TEJAS\\anaconda3\\lib\\site-packages\\IPython\\core\\async_helpers.py\", line 129, in _pseudo_sync_runner\n    coro.send(None)\n  File \"C:\\Users\\TEJAS\\anaconda3\\lib\\site-packages\\IPython\\core\\interactiveshell.py\", line 3106, in run_cell_async\n    has_raised = await self.run_ast_nodes(code_ast.body, cell_name,\n  File \"C:\\Users\\TEJAS\\anaconda3\\lib\\site-packages\\IPython\\core\\interactiveshell.py\", line 3309, in run_ast_nodes\n    if await self.run_code(code, result, async_=asy):\n  File \"C:\\Users\\TEJAS\\anaconda3\\lib\\site-packages\\IPython\\core\\interactiveshell.py\", line 3369, in run_code\n    exec(code_obj, self.user_global_ns, self.user_ns)\n  File \"C:\\Users\\TEJAS\\AppData\\Local\\Temp\\ipykernel_14856\\2737126392.py\", line 20, in <cell line: 4>\n    gen_sample = sess.run(generator(z, reuse = True),\n  File \"C:\\Users\\TEJAS\\AppData\\Local\\Temp\\ipykernel_14856\\548130645.py\", line 11, in generator\n    hidden2 = tf.keras.layers.Dense(units = 128, activation = tf.nn.leaky_relu)(hidden1)\n  File \"C:\\Users\\TEJAS\\anaconda3\\lib\\site-packages\\keras\\engine\\base_layer_v1.py\", line 838, in __call__\n    outputs = call_fn(cast_inputs, *args, **kwargs)\n  File \"C:\\Users\\TEJAS\\anaconda3\\lib\\site-packages\\keras\\layers\\core\\dense.py\", line 252, in call\n    outputs = tf.nn.bias_add(outputs, self.bias)\n  File \"C:\\Users\\TEJAS\\anaconda3\\lib\\site-packages\\tensorflow\\python\\util\\traceback_utils.py\", line 150, in error_handler\n    return fn(*args, **kwargs)\n  File \"C:\\Users\\TEJAS\\anaconda3\\lib\\site-packages\\tensorflow\\python\\util\\dispatch.py\", line 1176, in op_dispatch_handler\n    return dispatch_target(*args, **kwargs)\n  File \"C:\\Users\\TEJAS\\anaconda3\\lib\\site-packages\\tensorflow\\python\\ops\\nn_ops.py\", line 3552, in bias_add\n    bias = ops.convert_to_tensor(bias, dtype=value.dtype, name=\"bias\")\n  File \"C:\\Users\\TEJAS\\anaconda3\\lib\\site-packages\\tensorflow\\python\\profiler\\trace.py\", line 183, in wrapped\n    return func(*args, **kwargs)\n  File \"C:\\Users\\TEJAS\\anaconda3\\lib\\site-packages\\tensorflow\\python\\framework\\ops.py\", line 1638, in convert_to_tensor\n    ret = conversion_func(value, dtype=dtype, name=name, as_ref=as_ref)\n  File \"C:\\Users\\TEJAS\\anaconda3\\lib\\site-packages\\tensorflow\\python\\ops\\resource_variable_ops.py\", line 2105, in _dense_var_to_tensor\n    return var._dense_var_to_tensor(dtype=dtype, name=name, as_ref=as_ref)  # pylint: disable=protected-access\n  File \"C:\\Users\\TEJAS\\anaconda3\\lib\\site-packages\\tensorflow\\python\\ops\\resource_variable_ops.py\", line 1467, in _dense_var_to_tensor\n    return self.value()\n  File \"C:\\Users\\TEJAS\\anaconda3\\lib\\site-packages\\tensorflow\\python\\ops\\resource_variable_ops.py\", line 582, in value\n    return self._read_variable_op()\n  File \"C:\\Users\\TEJAS\\anaconda3\\lib\\site-packages\\tensorflow\\python\\ops\\resource_variable_ops.py\", line 704, in _read_variable_op\n    result = read_and_set_handle(no_copy)\n  File \"C:\\Users\\TEJAS\\anaconda3\\lib\\site-packages\\tensorflow\\python\\ops\\resource_variable_ops.py\", line 694, in read_and_set_handle\n    result = gen_resource_variable_ops.read_variable_op(\n  File \"C:\\Users\\TEJAS\\anaconda3\\lib\\site-packages\\tensorflow\\python\\ops\\gen_resource_variable_ops.py\", line 538, in read_variable_op\n    _, _, _op, _outputs = _op_def_library._apply_op_helper(\n  File \"C:\\Users\\TEJAS\\anaconda3\\lib\\site-packages\\tensorflow\\python\\framework\\op_def_library.py\", line 797, in _apply_op_helper\n    op = g._create_op_internal(op_type_name, inputs, dtypes=None,\n  File \"C:\\Users\\TEJAS\\anaconda3\\lib\\site-packages\\tensorflow\\python\\framework\\ops.py\", line 3800, in _create_op_internal\n    ret = Operation(\n",
     "output_type": "error",
     "traceback": [
      "\u001b[1;31m---------------------------------------------------------------------------\u001b[0m",
      "\u001b[1;31mFailedPreconditionError\u001b[0m                   Traceback (most recent call last)",
      "File \u001b[1;32m~\\anaconda3\\lib\\site-packages\\tensorflow\\python\\client\\session.py:1378\u001b[0m, in \u001b[0;36mBaseSession._do_call\u001b[1;34m(self, fn, *args)\u001b[0m\n\u001b[0;32m   1377\u001b[0m \u001b[38;5;28;01mtry\u001b[39;00m:\n\u001b[1;32m-> 1378\u001b[0m   \u001b[38;5;28;01mreturn\u001b[39;00m \u001b[43mfn\u001b[49m\u001b[43m(\u001b[49m\u001b[38;5;241;43m*\u001b[39;49m\u001b[43margs\u001b[49m\u001b[43m)\u001b[49m\n\u001b[0;32m   1379\u001b[0m \u001b[38;5;28;01mexcept\u001b[39;00m errors\u001b[38;5;241m.\u001b[39mOpError \u001b[38;5;28;01mas\u001b[39;00m e:\n",
      "File \u001b[1;32m~\\anaconda3\\lib\\site-packages\\tensorflow\\python\\client\\session.py:1361\u001b[0m, in \u001b[0;36mBaseSession._do_run.<locals>._run_fn\u001b[1;34m(feed_dict, fetch_list, target_list, options, run_metadata)\u001b[0m\n\u001b[0;32m   1360\u001b[0m \u001b[38;5;28mself\u001b[39m\u001b[38;5;241m.\u001b[39m_extend_graph()\n\u001b[1;32m-> 1361\u001b[0m \u001b[38;5;28;01mreturn\u001b[39;00m \u001b[38;5;28;43mself\u001b[39;49m\u001b[38;5;241;43m.\u001b[39;49m\u001b[43m_call_tf_sessionrun\u001b[49m\u001b[43m(\u001b[49m\u001b[43moptions\u001b[49m\u001b[43m,\u001b[49m\u001b[43m \u001b[49m\u001b[43mfeed_dict\u001b[49m\u001b[43m,\u001b[49m\u001b[43m \u001b[49m\u001b[43mfetch_list\u001b[49m\u001b[43m,\u001b[49m\n\u001b[0;32m   1362\u001b[0m \u001b[43m                                \u001b[49m\u001b[43mtarget_list\u001b[49m\u001b[43m,\u001b[49m\u001b[43m \u001b[49m\u001b[43mrun_metadata\u001b[49m\u001b[43m)\u001b[49m\n",
      "File \u001b[1;32m~\\anaconda3\\lib\\site-packages\\tensorflow\\python\\client\\session.py:1454\u001b[0m, in \u001b[0;36mBaseSession._call_tf_sessionrun\u001b[1;34m(self, options, feed_dict, fetch_list, target_list, run_metadata)\u001b[0m\n\u001b[0;32m   1452\u001b[0m \u001b[38;5;28;01mdef\u001b[39;00m \u001b[38;5;21m_call_tf_sessionrun\u001b[39m(\u001b[38;5;28mself\u001b[39m, options, feed_dict, fetch_list, target_list,\n\u001b[0;32m   1453\u001b[0m                         run_metadata):\n\u001b[1;32m-> 1454\u001b[0m   \u001b[38;5;28;01mreturn\u001b[39;00m \u001b[43mtf_session\u001b[49m\u001b[38;5;241;43m.\u001b[39;49m\u001b[43mTF_SessionRun_wrapper\u001b[49m\u001b[43m(\u001b[49m\u001b[38;5;28;43mself\u001b[39;49m\u001b[38;5;241;43m.\u001b[39;49m\u001b[43m_session\u001b[49m\u001b[43m,\u001b[49m\u001b[43m \u001b[49m\u001b[43moptions\u001b[49m\u001b[43m,\u001b[49m\u001b[43m \u001b[49m\u001b[43mfeed_dict\u001b[49m\u001b[43m,\u001b[49m\n\u001b[0;32m   1455\u001b[0m \u001b[43m                                          \u001b[49m\u001b[43mfetch_list\u001b[49m\u001b[43m,\u001b[49m\u001b[43m \u001b[49m\u001b[43mtarget_list\u001b[49m\u001b[43m,\u001b[49m\n\u001b[0;32m   1456\u001b[0m \u001b[43m                                          \u001b[49m\u001b[43mrun_metadata\u001b[49m\u001b[43m)\u001b[49m\n",
      "\u001b[1;31mFailedPreconditionError\u001b[0m: Could not find variable gen_2/dense_13/bias. This could mean that the variable has been deleted. In TF1, it can also mean the variable is uninitialized. Debug info: container=localhost, status error message=Resource localhost/gen_2/dense_13/bias/class tensorflow::Var does not exist.\n\t [[{{node gen_2/dense_13/BiasAdd/ReadVariableOp}}]]",
      "\nDuring handling of the above exception, another exception occurred:\n",
      "\u001b[1;31mFailedPreconditionError\u001b[0m                   Traceback (most recent call last)",
      "Input \u001b[1;32mIn [44]\u001b[0m, in \u001b[0;36m<cell line: 4>\u001b[1;34m()\u001b[0m\n\u001b[0;32m     17\u001b[0m \u001b[38;5;28mprint\u001b[39m(\u001b[38;5;124m\"\u001b[39m\u001b[38;5;124mon epoch\u001b[39m\u001b[38;5;132;01m{}\u001b[39;00m\u001b[38;5;124m\"\u001b[39m\u001b[38;5;241m.\u001b[39mformat(epoch))\n\u001b[0;32m     19\u001b[0m sample_z \u001b[38;5;241m=\u001b[39m np\u001b[38;5;241m.\u001b[39mrandom\u001b[38;5;241m.\u001b[39muniform(\u001b[38;5;241m-\u001b[39m\u001b[38;5;241m1\u001b[39m, \u001b[38;5;241m1\u001b[39m, size \u001b[38;5;241m=\u001b[39m(\u001b[38;5;241m1\u001b[39m, \u001b[38;5;241m100\u001b[39m))\n\u001b[1;32m---> 20\u001b[0m gen_sample \u001b[38;5;241m=\u001b[39m \u001b[43msess\u001b[49m\u001b[38;5;241;43m.\u001b[39;49m\u001b[43mrun\u001b[49m\u001b[43m(\u001b[49m\u001b[43mgenerator\u001b[49m\u001b[43m(\u001b[49m\u001b[43mz\u001b[49m\u001b[43m,\u001b[49m\u001b[43m \u001b[49m\u001b[43mreuse\u001b[49m\u001b[43m \u001b[49m\u001b[38;5;241;43m=\u001b[39;49m\u001b[43m \u001b[49m\u001b[38;5;28;43;01mTrue\u001b[39;49;00m\u001b[43m)\u001b[49m\u001b[43m,\u001b[49m\n\u001b[0;32m     21\u001b[0m \u001b[43m                         \u001b[49m\u001b[43mfeed_dict\u001b[49m\u001b[43m \u001b[49m\u001b[38;5;241;43m=\u001b[39;49m\u001b[43m{\u001b[49m\u001b[43mz\u001b[49m\u001b[43m:\u001b[49m\u001b[43msample_z\u001b[49m\u001b[43m}\u001b[49m\u001b[43m)\u001b[49m\n\u001b[0;32m     23\u001b[0m samples\u001b[38;5;241m.\u001b[39mappend(gen_sample)\n",
      "File \u001b[1;32m~\\anaconda3\\lib\\site-packages\\tensorflow\\python\\client\\session.py:968\u001b[0m, in \u001b[0;36mBaseSession.run\u001b[1;34m(self, fetches, feed_dict, options, run_metadata)\u001b[0m\n\u001b[0;32m    965\u001b[0m run_metadata_ptr \u001b[38;5;241m=\u001b[39m tf_session\u001b[38;5;241m.\u001b[39mTF_NewBuffer() \u001b[38;5;28;01mif\u001b[39;00m run_metadata \u001b[38;5;28;01melse\u001b[39;00m \u001b[38;5;28;01mNone\u001b[39;00m\n\u001b[0;32m    967\u001b[0m \u001b[38;5;28;01mtry\u001b[39;00m:\n\u001b[1;32m--> 968\u001b[0m   result \u001b[38;5;241m=\u001b[39m \u001b[38;5;28;43mself\u001b[39;49m\u001b[38;5;241;43m.\u001b[39;49m\u001b[43m_run\u001b[49m\u001b[43m(\u001b[49m\u001b[38;5;28;43;01mNone\u001b[39;49;00m\u001b[43m,\u001b[49m\u001b[43m \u001b[49m\u001b[43mfetches\u001b[49m\u001b[43m,\u001b[49m\u001b[43m \u001b[49m\u001b[43mfeed_dict\u001b[49m\u001b[43m,\u001b[49m\u001b[43m \u001b[49m\u001b[43moptions_ptr\u001b[49m\u001b[43m,\u001b[49m\n\u001b[0;32m    969\u001b[0m \u001b[43m                     \u001b[49m\u001b[43mrun_metadata_ptr\u001b[49m\u001b[43m)\u001b[49m\n\u001b[0;32m    970\u001b[0m   \u001b[38;5;28;01mif\u001b[39;00m run_metadata:\n\u001b[0;32m    971\u001b[0m     proto_data \u001b[38;5;241m=\u001b[39m tf_session\u001b[38;5;241m.\u001b[39mTF_GetBuffer(run_metadata_ptr)\n",
      "File \u001b[1;32m~\\anaconda3\\lib\\site-packages\\tensorflow\\python\\client\\session.py:1191\u001b[0m, in \u001b[0;36mBaseSession._run\u001b[1;34m(self, handle, fetches, feed_dict, options, run_metadata)\u001b[0m\n\u001b[0;32m   1188\u001b[0m \u001b[38;5;66;03m# We only want to really perform the run if fetches or targets are provided,\u001b[39;00m\n\u001b[0;32m   1189\u001b[0m \u001b[38;5;66;03m# or if the call is a partial run that specifies feeds.\u001b[39;00m\n\u001b[0;32m   1190\u001b[0m \u001b[38;5;28;01mif\u001b[39;00m final_fetches \u001b[38;5;129;01mor\u001b[39;00m final_targets \u001b[38;5;129;01mor\u001b[39;00m (handle \u001b[38;5;129;01mand\u001b[39;00m feed_dict_tensor):\n\u001b[1;32m-> 1191\u001b[0m   results \u001b[38;5;241m=\u001b[39m \u001b[38;5;28;43mself\u001b[39;49m\u001b[38;5;241;43m.\u001b[39;49m\u001b[43m_do_run\u001b[49m\u001b[43m(\u001b[49m\u001b[43mhandle\u001b[49m\u001b[43m,\u001b[49m\u001b[43m \u001b[49m\u001b[43mfinal_targets\u001b[49m\u001b[43m,\u001b[49m\u001b[43m \u001b[49m\u001b[43mfinal_fetches\u001b[49m\u001b[43m,\u001b[49m\n\u001b[0;32m   1192\u001b[0m \u001b[43m                         \u001b[49m\u001b[43mfeed_dict_tensor\u001b[49m\u001b[43m,\u001b[49m\u001b[43m \u001b[49m\u001b[43moptions\u001b[49m\u001b[43m,\u001b[49m\u001b[43m \u001b[49m\u001b[43mrun_metadata\u001b[49m\u001b[43m)\u001b[49m\n\u001b[0;32m   1193\u001b[0m \u001b[38;5;28;01melse\u001b[39;00m:\n\u001b[0;32m   1194\u001b[0m   results \u001b[38;5;241m=\u001b[39m []\n",
      "File \u001b[1;32m~\\anaconda3\\lib\\site-packages\\tensorflow\\python\\client\\session.py:1371\u001b[0m, in \u001b[0;36mBaseSession._do_run\u001b[1;34m(self, handle, target_list, fetch_list, feed_dict, options, run_metadata)\u001b[0m\n\u001b[0;32m   1368\u001b[0m   \u001b[38;5;28;01mreturn\u001b[39;00m \u001b[38;5;28mself\u001b[39m\u001b[38;5;241m.\u001b[39m_call_tf_sessionprun(handle, feed_dict, fetch_list)\n\u001b[0;32m   1370\u001b[0m \u001b[38;5;28;01mif\u001b[39;00m handle \u001b[38;5;129;01mis\u001b[39;00m \u001b[38;5;28;01mNone\u001b[39;00m:\n\u001b[1;32m-> 1371\u001b[0m   \u001b[38;5;28;01mreturn\u001b[39;00m \u001b[38;5;28;43mself\u001b[39;49m\u001b[38;5;241;43m.\u001b[39;49m\u001b[43m_do_call\u001b[49m\u001b[43m(\u001b[49m\u001b[43m_run_fn\u001b[49m\u001b[43m,\u001b[49m\u001b[43m \u001b[49m\u001b[43mfeeds\u001b[49m\u001b[43m,\u001b[49m\u001b[43m \u001b[49m\u001b[43mfetches\u001b[49m\u001b[43m,\u001b[49m\u001b[43m \u001b[49m\u001b[43mtargets\u001b[49m\u001b[43m,\u001b[49m\u001b[43m \u001b[49m\u001b[43moptions\u001b[49m\u001b[43m,\u001b[49m\n\u001b[0;32m   1372\u001b[0m \u001b[43m                       \u001b[49m\u001b[43mrun_metadata\u001b[49m\u001b[43m)\u001b[49m\n\u001b[0;32m   1373\u001b[0m \u001b[38;5;28;01melse\u001b[39;00m:\n\u001b[0;32m   1374\u001b[0m   \u001b[38;5;28;01mreturn\u001b[39;00m \u001b[38;5;28mself\u001b[39m\u001b[38;5;241m.\u001b[39m_do_call(_prun_fn, handle, feeds, fetches)\n",
      "File \u001b[1;32m~\\anaconda3\\lib\\site-packages\\tensorflow\\python\\client\\session.py:1397\u001b[0m, in \u001b[0;36mBaseSession._do_call\u001b[1;34m(self, fn, *args)\u001b[0m\n\u001b[0;32m   1392\u001b[0m \u001b[38;5;28;01mif\u001b[39;00m \u001b[38;5;124m'\u001b[39m\u001b[38;5;124monly supports NHWC tensor format\u001b[39m\u001b[38;5;124m'\u001b[39m \u001b[38;5;129;01min\u001b[39;00m message:\n\u001b[0;32m   1393\u001b[0m   message \u001b[38;5;241m+\u001b[39m\u001b[38;5;241m=\u001b[39m (\u001b[38;5;124m'\u001b[39m\u001b[38;5;130;01m\\n\u001b[39;00m\u001b[38;5;124mA possible workaround: Try disabling Grappler optimizer\u001b[39m\u001b[38;5;124m'\u001b[39m\n\u001b[0;32m   1394\u001b[0m               \u001b[38;5;124m'\u001b[39m\u001b[38;5;130;01m\\n\u001b[39;00m\u001b[38;5;124mby modifying the config for creating the session eg.\u001b[39m\u001b[38;5;124m'\u001b[39m\n\u001b[0;32m   1395\u001b[0m               \u001b[38;5;124m'\u001b[39m\u001b[38;5;130;01m\\n\u001b[39;00m\u001b[38;5;124msession_config.graph_options.rewrite_options.\u001b[39m\u001b[38;5;124m'\u001b[39m\n\u001b[0;32m   1396\u001b[0m               \u001b[38;5;124m'\u001b[39m\u001b[38;5;124mdisable_meta_optimizer = True\u001b[39m\u001b[38;5;124m'\u001b[39m)\n\u001b[1;32m-> 1397\u001b[0m \u001b[38;5;28;01mraise\u001b[39;00m \u001b[38;5;28mtype\u001b[39m(e)(node_def, op, message)\n",
      "\u001b[1;31mFailedPreconditionError\u001b[0m: Graph execution error:\n\nDetected at node 'gen_2/dense_13/BiasAdd/ReadVariableOp' defined at (most recent call last):\n    File \"C:\\Users\\TEJAS\\anaconda3\\lib\\runpy.py\", line 197, in _run_module_as_main\n      return _run_code(code, main_globals, None,\n    File \"C:\\Users\\TEJAS\\anaconda3\\lib\\runpy.py\", line 87, in _run_code\n      exec(code, run_globals)\n    File \"C:\\Users\\TEJAS\\anaconda3\\lib\\site-packages\\ipykernel_launcher.py\", line 16, in <module>\n      app.launch_new_instance()\n    File \"C:\\Users\\TEJAS\\anaconda3\\lib\\site-packages\\traitlets\\config\\application.py\", line 846, in launch_instance\n      app.start()\n    File \"C:\\Users\\TEJAS\\anaconda3\\lib\\site-packages\\ipykernel\\kernelapp.py\", line 677, in start\n      self.io_loop.start()\n    File \"C:\\Users\\TEJAS\\anaconda3\\lib\\site-packages\\tornado\\platform\\asyncio.py\", line 199, in start\n      self.asyncio_loop.run_forever()\n    File \"C:\\Users\\TEJAS\\anaconda3\\lib\\asyncio\\base_events.py\", line 601, in run_forever\n      self._run_once()\n    File \"C:\\Users\\TEJAS\\anaconda3\\lib\\asyncio\\base_events.py\", line 1905, in _run_once\n      handle._run()\n    File \"C:\\Users\\TEJAS\\anaconda3\\lib\\asyncio\\events.py\", line 80, in _run\n      self._context.run(self._callback, *self._args)\n    File \"C:\\Users\\TEJAS\\anaconda3\\lib\\site-packages\\ipykernel\\kernelbase.py\", line 471, in dispatch_queue\n      await self.process_one()\n    File \"C:\\Users\\TEJAS\\anaconda3\\lib\\site-packages\\ipykernel\\kernelbase.py\", line 460, in process_one\n      await dispatch(*args)\n    File \"C:\\Users\\TEJAS\\anaconda3\\lib\\site-packages\\ipykernel\\kernelbase.py\", line 367, in dispatch_shell\n      await result\n    File \"C:\\Users\\TEJAS\\anaconda3\\lib\\site-packages\\ipykernel\\kernelbase.py\", line 662, in execute_request\n      reply_content = await reply_content\n    File \"C:\\Users\\TEJAS\\anaconda3\\lib\\site-packages\\ipykernel\\ipkernel.py\", line 360, in do_execute\n      res = shell.run_cell(code, store_history=store_history, silent=silent)\n    File \"C:\\Users\\TEJAS\\anaconda3\\lib\\site-packages\\ipykernel\\zmqshell.py\", line 532, in run_cell\n      return super().run_cell(*args, **kwargs)\n    File \"C:\\Users\\TEJAS\\anaconda3\\lib\\site-packages\\IPython\\core\\interactiveshell.py\", line 2863, in run_cell\n      result = self._run_cell(\n    File \"C:\\Users\\TEJAS\\anaconda3\\lib\\site-packages\\IPython\\core\\interactiveshell.py\", line 2909, in _run_cell\n      return runner(coro)\n    File \"C:\\Users\\TEJAS\\anaconda3\\lib\\site-packages\\IPython\\core\\async_helpers.py\", line 129, in _pseudo_sync_runner\n      coro.send(None)\n    File \"C:\\Users\\TEJAS\\anaconda3\\lib\\site-packages\\IPython\\core\\interactiveshell.py\", line 3106, in run_cell_async\n      has_raised = await self.run_ast_nodes(code_ast.body, cell_name,\n    File \"C:\\Users\\TEJAS\\anaconda3\\lib\\site-packages\\IPython\\core\\interactiveshell.py\", line 3309, in run_ast_nodes\n      if await self.run_code(code, result, async_=asy):\n    File \"C:\\Users\\TEJAS\\anaconda3\\lib\\site-packages\\IPython\\core\\interactiveshell.py\", line 3369, in run_code\n      exec(code_obj, self.user_global_ns, self.user_ns)\n    File \"C:\\Users\\TEJAS\\AppData\\Local\\Temp\\ipykernel_14856\\2737126392.py\", line 20, in <cell line: 4>\n      gen_sample = sess.run(generator(z, reuse = True),\n    File \"C:\\Users\\TEJAS\\AppData\\Local\\Temp\\ipykernel_14856\\548130645.py\", line 11, in generator\n      hidden2 = tf.keras.layers.Dense(units = 128, activation = tf.nn.leaky_relu)(hidden1)\n    File \"C:\\Users\\TEJAS\\anaconda3\\lib\\site-packages\\keras\\engine\\base_layer_v1.py\", line 838, in __call__\n      outputs = call_fn(cast_inputs, *args, **kwargs)\n    File \"C:\\Users\\TEJAS\\anaconda3\\lib\\site-packages\\keras\\layers\\core\\dense.py\", line 252, in call\n      outputs = tf.nn.bias_add(outputs, self.bias)\nNode: 'gen_2/dense_13/BiasAdd/ReadVariableOp'\nCould not find variable gen_2/dense_13/bias. This could mean that the variable has been deleted. In TF1, it can also mean the variable is uninitialized. Debug info: container=localhost, status error message=Resource localhost/gen_2/dense_13/bias/class tensorflow::Var does not exist.\n\t [[{{node gen_2/dense_13/BiasAdd/ReadVariableOp}}]]\n\nOriginal stack trace for 'gen_2/dense_13/BiasAdd/ReadVariableOp':\n  File \"C:\\Users\\TEJAS\\anaconda3\\lib\\runpy.py\", line 197, in _run_module_as_main\n    return _run_code(code, main_globals, None,\n  File \"C:\\Users\\TEJAS\\anaconda3\\lib\\runpy.py\", line 87, in _run_code\n    exec(code, run_globals)\n  File \"C:\\Users\\TEJAS\\anaconda3\\lib\\site-packages\\ipykernel_launcher.py\", line 16, in <module>\n    app.launch_new_instance()\n  File \"C:\\Users\\TEJAS\\anaconda3\\lib\\site-packages\\traitlets\\config\\application.py\", line 846, in launch_instance\n    app.start()\n  File \"C:\\Users\\TEJAS\\anaconda3\\lib\\site-packages\\ipykernel\\kernelapp.py\", line 677, in start\n    self.io_loop.start()\n  File \"C:\\Users\\TEJAS\\anaconda3\\lib\\site-packages\\tornado\\platform\\asyncio.py\", line 199, in start\n    self.asyncio_loop.run_forever()\n  File \"C:\\Users\\TEJAS\\anaconda3\\lib\\asyncio\\base_events.py\", line 601, in run_forever\n    self._run_once()\n  File \"C:\\Users\\TEJAS\\anaconda3\\lib\\asyncio\\base_events.py\", line 1905, in _run_once\n    handle._run()\n  File \"C:\\Users\\TEJAS\\anaconda3\\lib\\asyncio\\events.py\", line 80, in _run\n    self._context.run(self._callback, *self._args)\n  File \"C:\\Users\\TEJAS\\anaconda3\\lib\\site-packages\\ipykernel\\kernelbase.py\", line 471, in dispatch_queue\n    await self.process_one()\n  File \"C:\\Users\\TEJAS\\anaconda3\\lib\\site-packages\\ipykernel\\kernelbase.py\", line 460, in process_one\n    await dispatch(*args)\n  File \"C:\\Users\\TEJAS\\anaconda3\\lib\\site-packages\\ipykernel\\kernelbase.py\", line 367, in dispatch_shell\n    await result\n  File \"C:\\Users\\TEJAS\\anaconda3\\lib\\site-packages\\ipykernel\\kernelbase.py\", line 662, in execute_request\n    reply_content = await reply_content\n  File \"C:\\Users\\TEJAS\\anaconda3\\lib\\site-packages\\ipykernel\\ipkernel.py\", line 360, in do_execute\n    res = shell.run_cell(code, store_history=store_history, silent=silent)\n  File \"C:\\Users\\TEJAS\\anaconda3\\lib\\site-packages\\ipykernel\\zmqshell.py\", line 532, in run_cell\n    return super().run_cell(*args, **kwargs)\n  File \"C:\\Users\\TEJAS\\anaconda3\\lib\\site-packages\\IPython\\core\\interactiveshell.py\", line 2863, in run_cell\n    result = self._run_cell(\n  File \"C:\\Users\\TEJAS\\anaconda3\\lib\\site-packages\\IPython\\core\\interactiveshell.py\", line 2909, in _run_cell\n    return runner(coro)\n  File \"C:\\Users\\TEJAS\\anaconda3\\lib\\site-packages\\IPython\\core\\async_helpers.py\", line 129, in _pseudo_sync_runner\n    coro.send(None)\n  File \"C:\\Users\\TEJAS\\anaconda3\\lib\\site-packages\\IPython\\core\\interactiveshell.py\", line 3106, in run_cell_async\n    has_raised = await self.run_ast_nodes(code_ast.body, cell_name,\n  File \"C:\\Users\\TEJAS\\anaconda3\\lib\\site-packages\\IPython\\core\\interactiveshell.py\", line 3309, in run_ast_nodes\n    if await self.run_code(code, result, async_=asy):\n  File \"C:\\Users\\TEJAS\\anaconda3\\lib\\site-packages\\IPython\\core\\interactiveshell.py\", line 3369, in run_code\n    exec(code_obj, self.user_global_ns, self.user_ns)\n  File \"C:\\Users\\TEJAS\\AppData\\Local\\Temp\\ipykernel_14856\\2737126392.py\", line 20, in <cell line: 4>\n    gen_sample = sess.run(generator(z, reuse = True),\n  File \"C:\\Users\\TEJAS\\AppData\\Local\\Temp\\ipykernel_14856\\548130645.py\", line 11, in generator\n    hidden2 = tf.keras.layers.Dense(units = 128, activation = tf.nn.leaky_relu)(hidden1)\n  File \"C:\\Users\\TEJAS\\anaconda3\\lib\\site-packages\\keras\\engine\\base_layer_v1.py\", line 838, in __call__\n    outputs = call_fn(cast_inputs, *args, **kwargs)\n  File \"C:\\Users\\TEJAS\\anaconda3\\lib\\site-packages\\keras\\layers\\core\\dense.py\", line 252, in call\n    outputs = tf.nn.bias_add(outputs, self.bias)\n  File \"C:\\Users\\TEJAS\\anaconda3\\lib\\site-packages\\tensorflow\\python\\util\\traceback_utils.py\", line 150, in error_handler\n    return fn(*args, **kwargs)\n  File \"C:\\Users\\TEJAS\\anaconda3\\lib\\site-packages\\tensorflow\\python\\util\\dispatch.py\", line 1176, in op_dispatch_handler\n    return dispatch_target(*args, **kwargs)\n  File \"C:\\Users\\TEJAS\\anaconda3\\lib\\site-packages\\tensorflow\\python\\ops\\nn_ops.py\", line 3552, in bias_add\n    bias = ops.convert_to_tensor(bias, dtype=value.dtype, name=\"bias\")\n  File \"C:\\Users\\TEJAS\\anaconda3\\lib\\site-packages\\tensorflow\\python\\profiler\\trace.py\", line 183, in wrapped\n    return func(*args, **kwargs)\n  File \"C:\\Users\\TEJAS\\anaconda3\\lib\\site-packages\\tensorflow\\python\\framework\\ops.py\", line 1638, in convert_to_tensor\n    ret = conversion_func(value, dtype=dtype, name=name, as_ref=as_ref)\n  File \"C:\\Users\\TEJAS\\anaconda3\\lib\\site-packages\\tensorflow\\python\\ops\\resource_variable_ops.py\", line 2105, in _dense_var_to_tensor\n    return var._dense_var_to_tensor(dtype=dtype, name=name, as_ref=as_ref)  # pylint: disable=protected-access\n  File \"C:\\Users\\TEJAS\\anaconda3\\lib\\site-packages\\tensorflow\\python\\ops\\resource_variable_ops.py\", line 1467, in _dense_var_to_tensor\n    return self.value()\n  File \"C:\\Users\\TEJAS\\anaconda3\\lib\\site-packages\\tensorflow\\python\\ops\\resource_variable_ops.py\", line 582, in value\n    return self._read_variable_op()\n  File \"C:\\Users\\TEJAS\\anaconda3\\lib\\site-packages\\tensorflow\\python\\ops\\resource_variable_ops.py\", line 704, in _read_variable_op\n    result = read_and_set_handle(no_copy)\n  File \"C:\\Users\\TEJAS\\anaconda3\\lib\\site-packages\\tensorflow\\python\\ops\\resource_variable_ops.py\", line 694, in read_and_set_handle\n    result = gen_resource_variable_ops.read_variable_op(\n  File \"C:\\Users\\TEJAS\\anaconda3\\lib\\site-packages\\tensorflow\\python\\ops\\gen_resource_variable_ops.py\", line 538, in read_variable_op\n    _, _, _op, _outputs = _op_def_library._apply_op_helper(\n  File \"C:\\Users\\TEJAS\\anaconda3\\lib\\site-packages\\tensorflow\\python\\framework\\op_def_library.py\", line 797, in _apply_op_helper\n    op = g._create_op_internal(op_type_name, inputs, dtypes=None,\n  File \"C:\\Users\\TEJAS\\anaconda3\\lib\\site-packages\\tensorflow\\python\\framework\\ops.py\", line 3800, in _create_op_internal\n    ret = Operation(\n"
     ]
    }
   ],
   "source": [
    "# creating a session to train the networks\n",
    "samples =[] # generator examples\n",
    "  \n",
    "with tf.compat.v1.Session() as sess:\n",
    "    sess.run(init)\n",
    "    for epoch in range(epochs):\n",
    "        num_batches = len(train_data[0])//batch_size\n",
    "          \n",
    "        for i in range(num_batches):\n",
    "            batch = train_data[0][i*batch_size : (i+1)*batch_size]\n",
    "            batch_images = batch.reshape((batch_size, 784))\n",
    "            batch_images = batch_images * 2-1\n",
    "            batch_z = np.random.uniform(-1, 1, size =(batch_size, 100))\n",
    "            _= sess.run(D_trainer, feed_dict ={real_images:batch_images, z:batch_z})\n",
    "            _= sess.run(G_trainer, feed_dict ={z:batch_z})\n",
    "              \n",
    "        print(\"on epoch{}\".format(epoch))\n",
    "          \n",
    "        sample_z = np.random.uniform(-1, 1, size =(1, 100))\n",
    "        gen_sample = sess.run(generator(z, reuse = True),\n",
    "                                 feed_dict ={z:sample_z})\n",
    "          \n",
    "        samples.append(gen_sample)"
   ]
  },
  {
   "cell_type": "code",
   "execution_count": null,
   "id": "8083e475",
   "metadata": {},
   "outputs": [],
   "source": []
  }
 ],
 "metadata": {
  "kernelspec": {
   "display_name": "Python 3 (ipykernel)",
   "language": "python",
   "name": "python3"
  },
  "language_info": {
   "codemirror_mode": {
    "name": "ipython",
    "version": 3
   },
   "file_extension": ".py",
   "mimetype": "text/x-python",
   "name": "python",
   "nbconvert_exporter": "python",
   "pygments_lexer": "ipython3",
   "version": "3.9.12"
  }
 },
 "nbformat": 4,
 "nbformat_minor": 5
}
